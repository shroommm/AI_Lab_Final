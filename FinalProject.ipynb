{
 "cells": [
  {
   "cell_type": "code",
   "execution_count": null,
   "metadata": {
    "colab": {
     "base_uri": "https://localhost:8080/"
    },
    "id": "4wf9GXXGW8_X",
    "outputId": "0842659e-5e85-47e8-ba7f-4f56f8240340"
   },
   "outputs": [],
   "source": [
    "'''\n",
    "install the library to download and extract images from MNIST dataset\n",
    "'''\n",
    "# ! pip install get-mnist"
   ]
  },
  {
   "cell_type": "code",
   "execution_count": null,
   "metadata": {
    "colab": {
     "base_uri": "https://localhost:8080/"
    },
    "id": "W3dZdX2PXWLt",
    "outputId": "1feeb149-6158-4103-c5e1-b6f3df27b999"
   },
   "outputs": [],
   "source": [
    "'''\n",
    "load the dataset\n",
    "x, y: images and labels for training phase\n",
    "x_test, y_test: images and label for test phase\n",
    "'''\n",
    "\n",
    "from mnist import fashion_mnist\n",
    "x, y, x_test, y_test = fashion_mnist('FASHION_MNIST')\n",
    "label_names = ['T-shirt/top', 'Trouser', 'Pullover', 'Dress', 'Coat', 'Sandal', 'Shirt', 'Sneaker', 'Bag', 'Ankle boot']\n",
    "\n",
    "# print(x.shape)\n",
    "# print(y.shape)\n",
    "# print(x_test.shape)\n",
    "# print(y_test.shape)\n",
    "# print('labels:', label_names)"
   ]
  },
  {
   "cell_type": "code",
   "execution_count": null,
   "metadata": {
    "colab": {
     "base_uri": "https://localhost:8080/"
    },
    "id": "webCoph-R6rQ",
    "outputId": "ed25a81b-bcac-4b2e-aa00-f8bcc89cefa9"
   },
   "outputs": [],
   "source": [
    "# print(x[0])\n",
    "# print(y[0])"
   ]
  },
  {
   "cell_type": "code",
   "execution_count": null,
   "metadata": {
    "colab": {
     "base_uri": "https://localhost:8080/",
     "height": 323
    },
    "id": "yisAwA8qXoxL",
    "outputId": "938a56c1-00ed-4f4f-f838-1a4d0b9d85ae"
   },
   "outputs": [],
   "source": [
    "'''\n",
    "illustrate several images and corresponding labels in the training set\n",
    "'''\n",
    "\n",
    "import matplotlib.pyplot as plt\n",
    "\n",
    "num_row = 3\n",
    "num_col = 10\n",
    "num = num_row * num_col\n",
    "\n",
    "fig, axes = plt.subplots(num_row, num_col,\n",
    "                        figsize=(1.5*num_col,2*num_row))\n",
    "for i in range(num):\n",
    "    ax = axes[i//num_col, i%num_col]\n",
    "    ax.imshow(x[i], cmap='gray')\n",
    "    ax.set_title('%d:%s'%(y[i], label_names[y[i]]))\n",
    "plt.tight_layout()\n",
    "plt.show()"
   ]
  },
  {
   "cell_type": "code",
   "execution_count": 34,
   "metadata": {
    "id": "4vpA-fP6d9Nb"
   },
   "outputs": [],
   "source": [
    "# '''\n",
    "# TODO 01: data preprocessing.\n",
    "# Currently, the input x is a matrix with shape (60000, 28, 28) --> a list with 60000 elements which are 28x28 image/matrices\n",
    "# You can utilize the original shape of each image (28x28) or transform them into vectors (784) based on your approaches.\n",
    "# Each pixel in an image is in a 0-255 range.\n",
    "# You can utilize the original pixel range or scale image pixels into the 0.0-1.0 range base on your approaches.\n",
    "# Other methods for data preprocessing are highly encouraged.\n",
    "# '''\n",
    "from sklearn.preprocessing import StandardScaler\n",
    "\n",
    "# ===== Decision Tree =====\n",
    "x_DT = x.reshape(x.shape[0], -1)\n",
    "x_test_DT = x_test.reshape(x_test.shape[0], -1)\n",
    "y_DT = y.astype('int')\n",
    "y_test_DT = y_test.astype('int')\n",
    "\n",
    "# ===== KNN =====\n",
    "scaler = StandardScaler()\n",
    "x_KNN = scaler.fit_transform(x)\n",
    "x_test_KNN = scaler.transform(x_test)"
   ]
  },
  {
   "cell_type": "code",
   "execution_count": 35,
   "metadata": {
    "id": "YFgO6RgicTUb"
   },
   "outputs": [],
   "source": [
    "# '''\n",
    "# TODO 02: create a classification model\n",
    "# hint: Decission Tree, Random Forest, KNN, SVM, Neural Networks, etc.\n",
    "#       Library: scikit-learn, tensorflow/pytorch (they are complicated, consider carefully in advance)\n",
    "#       FYI: https://scikit-learn.org/stable/getting_started.html\n",
    "# '''\n",
    "from sklearn.tree import DecisionTreeClassifier\n",
    "from sklearn.neighbors import KNeighborsClassifier\n",
    "\n",
    "# ===== Decision Tree =====\n",
    "decisionTreeModel = DecisionTreeClassifier()\n",
    "\n",
    "# ===== KNN =====\n",
    "knnModel = KNeighborsClassifier(n_neighbors=5)"
   ]
  },
  {
   "cell_type": "code",
   "execution_count": 36,
   "metadata": {
    "id": "2xYvBP4nceQa"
   },
   "outputs": [
    {
     "data": {
      "text/plain": [
       "KNeighborsClassifier()"
      ]
     },
     "execution_count": 36,
     "metadata": {},
     "output_type": "execute_result"
    }
   ],
   "source": [
    "# '''\n",
    "# TODO 03: train the model using the training set (x, y)\n",
    "# it is obligated to display the accuracy in the training set after this phase\n",
    "# '''\n",
    "\n",
    "# ===== Decision Tree =====\n",
    "decisionTreeModel.fit(x_DT, y_DT)\n",
    "\n",
    "# ===== KNN =====\n",
    "knnModel.fit(x_KNN, y)"
   ]
  },
  {
   "cell_type": "code",
   "execution_count": 49,
   "metadata": {
    "id": "gawxLUeRcjOg"
   },
   "outputs": [
    {
     "name": "stdout",
     "output_type": "stream",
     "text": [
      "Decistion tree model accuracy: 79.00%\n",
      "KNN model accuracy: 85.33%\n"
     ]
    },
    {
     "name": "stderr",
     "output_type": "stream",
     "text": [
      "D:\\Anaconda\\lib\\site-packages\\sklearn\\neighbors\\_classification.py:228: FutureWarning: Unlike other reduction functions (e.g. `skew`, `kurtosis`), the default behavior of `mode` typically preserves the axis it acts along. In SciPy 1.11.0, this behavior will change: the default value of `keepdims` will become False, the `axis` over which the statistic is taken will be eliminated, and the value None will no longer be accepted. Set `keepdims` to True or False to avoid this warning.\n",
      "  mode, _ = stats.mode(_y[neigh_ind, k], axis=1)\n"
     ]
    }
   ],
   "source": [
    "# '''\n",
    "# TODO 04: compute the accuracy using the test set (x_test, y_test)\n",
    "# it is obligated to display the accuracy in the test set after this phase\n",
    "# '''\n",
    "from sklearn.metrics import accuracy_score\n",
    "\n",
    "# ===== Decision Tree =====\n",
    "y_predict_DT = decisionTreeModel.predict(x_test_DT)\n",
    "accuracy_DT = accuracy_score(y_test_DT, y_predict_DT)\n",
    "# .2: the number of decimal to be printed\n",
    "# f: the type of data (float)\n",
    "print(\"Decistion tree model accuracy: {:.2f}%\".format(accuracy_DT*100))\n",
    "\n",
    "# ===== KNN =====\n",
    "y_predict_KNN = knnModel.predict(x_test_KNN)\n",
    "accuracy_KNN = accuracy_score(y_test, y_predict_KNN)\n",
    "print('KNN model accuracy: {:.2f}%'.format(accuracy_KNN*100))"
   ]
  }
 ],
 "metadata": {
  "colab": {
   "provenance": []
  },
  "kernelspec": {
   "display_name": "Python 3 (ipykernel)",
   "language": "python",
   "name": "python3"
  },
  "language_info": {
   "codemirror_mode": {
    "name": "ipython",
    "version": 3
   },
   "file_extension": ".py",
   "mimetype": "text/x-python",
   "name": "python",
   "nbconvert_exporter": "python",
   "pygments_lexer": "ipython3",
   "version": "3.9.13"
  }
 },
 "nbformat": 4,
 "nbformat_minor": 4
}
