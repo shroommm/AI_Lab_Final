{
 "cells": [
  {
   "cell_type": "code",
   "execution_count": null,
   "metadata": {
    "colab": {
     "base_uri": "https://localhost:8080/"
    },
    "id": "4wf9GXXGW8_X",
    "outputId": "0842659e-5e85-47e8-ba7f-4f56f8240340"
   },
   "outputs": [],
   "source": [
    "'''\n",
    "install the library to download and extract images from MNIST dataset\n",
    "'''\n",
    "# ! pip install get-mnist"
   ]
  },
  {
   "cell_type": "code",
   "execution_count": null,
   "metadata": {
    "colab": {
     "base_uri": "https://localhost:8080/"
    },
    "id": "W3dZdX2PXWLt",
    "outputId": "1feeb149-6158-4103-c5e1-b6f3df27b999"
   },
   "outputs": [],
   "source": [
    "'''\n",
    "load the dataset\n",
    "x, y: images and labels for training phase\n",
    "x_test, y_test: images and label for test phase\n",
    "'''\n",
    "\n",
    "from mnist import fashion_mnist\n",
    "x, y, x_test, y_test = fashion_mnist('FASHION_MNIST')\n",
    "label_names = ['T-shirt/top', 'Trouser', 'Pullover', 'Dress', 'Coat', 'Sandal', 'Shirt', 'Sneaker', 'Bag', 'Ankle boot']\n",
    "\n",
    "print(x.shape)\n",
    "print(y.shape)\n",
    "print(x_test.shape)\n",
    "print(y_test.shape)\n",
    "print('labels:', label_names)"
   ]
  },
  {
   "cell_type": "code",
   "execution_count": null,
   "metadata": {
    "colab": {
     "base_uri": "https://localhost:8080/"
    },
    "id": "webCoph-R6rQ",
    "outputId": "ed25a81b-bcac-4b2e-aa00-f8bcc89cefa9"
   },
   "outputs": [],
   "source": [
    "# print(x[0])\n",
    "# print(y[0])"
   ]
  },
  {
   "cell_type": "code",
   "execution_count": null,
   "metadata": {
    "colab": {
     "base_uri": "https://localhost:8080/",
     "height": 323
    },
    "id": "yisAwA8qXoxL",
    "outputId": "938a56c1-00ed-4f4f-f838-1a4d0b9d85ae"
   },
   "outputs": [],
   "source": [
    "'''\n",
    "illustrate several images and corresponding labels in the training set\n",
    "'''\n",
    "\n",
    "import matplotlib.pyplot as plt\n",
    "\n",
    "num_row = 3\n",
    "num_col = 10\n",
    "num = num_row * num_col\n",
    "\n",
    "fig, axes = plt.subplots(num_row, num_col,\n",
    "                        figsize=(1.5*num_col,2*num_row))\n",
    "for i in range(num):\n",
    "    ax = axes[i//num_col, i%num_col]\n",
    "    ax.imshow(x[i], cmap='gray')\n",
    "    ax.set_title('%d:%s'%(y[i], label_names[y[i]]))\n",
    "plt.tight_layout()\n",
    "plt.show()"
   ]
  },
  {
   "cell_type": "code",
   "execution_count": null,
   "metadata": {
    "id": "4vpA-fP6d9Nb"
   },
   "outputs": [],
   "source": [
    "# '''\n",
    "# TODO 01: data preprocessing.\n",
    "# Currently, the input x is a matrix with shape (60000, 28, 28) --> a list with 60000 elements which are 28x28 image/matrices\n",
    "# You can utilize the original shape of each image (28x28) or transform them into vectors (784) based on your approaches.\n",
    "# Each pixel in an image is in a 0-255 range.\n",
    "# You can utilize the original pixel range or scale image pixels into the 0.0-1.0 range base on your approaches.\n",
    "# Other methods for data preprocessing are highly encouraged.\n",
    "# '''"
   ]
  },
  {
   "cell_type": "code",
   "execution_count": null,
   "metadata": {
    "id": "YFgO6RgicTUb"
   },
   "outputs": [],
   "source": [
    "# '''\n",
    "# TODO 02: create a classification model\n",
    "# hint: Decission Tree, Random Forest, KNN, SVM, Neural Networks, etc.\n",
    "#       Library: scikit-learn, tensorflow/pytorch (they are complicated, consider carefully in advance)\n",
    "#       FYI: https://scikit-learn.org/stable/getting_started.html\n",
    "# '''"
   ]
  },
  {
   "cell_type": "code",
   "execution_count": null,
   "metadata": {
    "id": "2xYvBP4nceQa"
   },
   "outputs": [],
   "source": [
    "# '''\n",
    "# TODO 03: train the model using the training set (x, y)\n",
    "# it is obligated to display the accuracy in the training set after this phase\n",
    "# '''"
   ]
  },
  {
   "cell_type": "code",
   "execution_count": null,
   "metadata": {
    "id": "gawxLUeRcjOg"
   },
   "outputs": [],
   "source": [
    "# '''\n",
    "# TODO 04: compute the accuracy using the test set (x_test, y_test)\n",
    "# it is obligated to display the accuracy in the test set after this phase\n",
    "# '''"
   ]
  },
  {
   "cell_type": "code",
   "execution_count": null,
   "metadata": {},
   "outputs": [],
   "source": [
    "# HELLO WORLD BY NKAQ"
   ]
  }
 ],
 "metadata": {
  "colab": {
   "provenance": []
  },
  "kernelspec": {
   "display_name": "Python 3 (ipykernel)",
   "language": "python",
   "name": "python3"
  },
  "language_info": {
   "codemirror_mode": {
    "name": "ipython",
    "version": 3
   },
   "file_extension": ".py",
   "mimetype": "text/x-python",
   "name": "python",
   "nbconvert_exporter": "python",
   "pygments_lexer": "ipython3",
   "version": "3.9.13"
  }
 },
 "nbformat": 4,
 "nbformat_minor": 4
}
